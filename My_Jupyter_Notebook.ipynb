{
 "cells": [
  {
   "cell_type": "markdown",
   "metadata": {},
   "source": [
    "<center>\n",
    "    <img src=\"https://cf-courses-data.s3.us.cloud-object-storage.appdomain.cloud/IBMDeveloperSkillsNetwork-DS0105EN-SkillsNetwork/labs/Module2/images/SN_web_lightmode.png\" width=\"300\" alt=\"cognitiveclass.ai logo\">\n",
    "</center>\n"
   ]
  },
  {
   "cell_type": "markdown",
   "metadata": {},
   "source": [
    "# My Jupyter Notebook"
   ]
  },
  {
   "cell_type": "markdown",
   "metadata": {},
   "source": [
    "## Exercise 3: Introduction\n",
    "\n",
    "This is my Jupyter notebook"
   ]
  },
  {
   "cell_type": "markdown",
   "metadata": {},
   "source": [
    "## Exercise 4: Data Science Languages\n",
    "- Python\n",
    "- R\n",
    "- Scala\n",
    "- Julia\n",
    "- C/C++"
   ]
  },
  {
   "cell_type": "markdown",
   "metadata": {},
   "source": [
    "## Exercise 5: Data Science Libraries\n",
    "- Pandas\n",
    "- Numpy\n",
    "- Seaborn\n",
    "- Matplotlib\n",
    "- Plotly\n",
    "- statsmodels"
   ]
  },
  {
   "cell_type": "markdown",
   "metadata": {},
   "source": [
    "## Exercise 6: Data Science Tools\n",
    "\n",
    "| Category          | Tool/Technology                         | Description                                      |\n",
    "|-------------------|----------------------------------------|--------------------------------------------------|\n",
    "| Programming      | Python, R, Julia                       | Popular languages for data analysis & modeling   |\n",
    "| IDEs             | Jupyter Notebook, RStudio, VS Code     | Interactive environments for development         |\n",
    "| Visualization    | Matplotlib, ggplot2, Tableau           | Tools for creating visualizations and dashboards |\n",
    "| Machine Learning | Scikit-learn, TensorFlow, Keras, caret | Libraries and frameworks for ML & AI             |\n",
    "| Big Data         | Apache Spark, Hadoop                   | Tools for handling large-scale data              |\n",
    "| Data Storage     | MySQL, PostgreSQL, MongoDB             | Databases used to store and query data           |\n",
    "| Cloud Platforms  | AWS, Google Cloud, Azure               | Cloud services for scalable data solutions       |\n",
    "\n"
   ]
  },
  {
   "cell_type": "markdown",
   "metadata": {},
   "source": [
    "## Exercise 7: Arithmetic Expression Operators in Python\n",
    "\n",
    "- Addition: `5 + 3`\n",
    "- Subtraction: `10 - 4`\n",
    "- Multiplication: `6 * 2`\n",
    "- Division: `8 / 2`\n",
    "- Exponentiation: `3 ** 2`\n",
    "- Modulus: `10 % 3`"
   ]
  },
  {
   "cell_type": "code",
   "execution_count": 5,
   "metadata": {},
   "outputs": [
    {
     "name": "stdout",
     "output_type": "stream",
     "text": [
      "a + b = 5\n",
      "a * b = 6\n"
     ]
    }
   ],
   "source": [
    "# Exercise 8: Add and multiply numbers\n",
    "a = 2\n",
    "b = 3\n",
    "\n",
    "# Addition\n",
    "print(f'a + b = {a + b}')\n",
    "\n",
    "# Multiplication\n",
    "print(f'a * b = {a * b}')"
   ]
  },
  {
   "cell_type": "code",
   "execution_count": 4,
   "metadata": {},
   "outputs": [
    {
     "name": "stdout",
     "output_type": "stream",
     "text": [
      "378495 minutes equals 6308.2 hours\n"
     ]
    }
   ],
   "source": [
    "# Exercise 9: Convert minutes to hours\n",
    "minutes = 378495\n",
    "\n",
    "# Conversion\n",
    "print(f'{minutes} minutes equals {minutes/60:.1f} hours')"
   ]
  },
  {
   "cell_type": "markdown",
   "metadata": {},
   "source": [
    "## Exercise 10: Objectives\n",
    "\n",
    "In this section, we will cover the following key objectives:\n",
    "\n",
    "- Understand the basics of arithmetic expressions.\n",
    "- Learn how to convert minutes into hours using simple calculations.\n",
    "- Explore data science tools and their applications.\n",
    "- Use Jupyter Notebook for interactive coding and visualization.\n",
    "- Apply mathematical operations in Python for data analysis.\n"
   ]
  },
  {
   "cell_type": "markdown",
   "metadata": {},
   "source": [
    "## Exercise 11: Author's Name\n",
    "\n",
    "- Author's name: **Luka**\n",
    "- Author's surnname: **Hudales Ruzic**"
   ]
  },
  {
   "cell_type": "code",
   "execution_count": null,
   "metadata": {},
   "outputs": [],
   "source": []
  }
 ],
 "metadata": {
  "kernelspec": {
   "display_name": "Python 3 (ipykernel)",
   "language": "python",
   "name": "python3"
  },
  "language_info": {
   "codemirror_mode": {
    "name": "ipython",
    "version": 3
   },
   "file_extension": ".py",
   "mimetype": "text/x-python",
   "name": "python",
   "nbconvert_exporter": "python",
   "pygments_lexer": "ipython3",
   "version": "3.12.8"
  }
 },
 "nbformat": 4,
 "nbformat_minor": 4
}
